{
 "cells": [
  {
   "cell_type": "markdown",
   "metadata": {},
   "source": [
    "# Using genes to predict traits with machine learning"
   ]
  },
  {
   "cell_type": "markdown",
   "metadata": {},
   "source": [
    "In this notebook, we'll load in data from the NCBI associating species with Kegg Orthologs (KOs), and use it to train a classifier which can predict microbial traits from KOs, using the Python Scikit-Learn machine learning library."
   ]
  },
  {
   "cell_type": "markdown",
   "metadata": {},
   "source": [
    "First we import the python packages we'll need"
   ]
  },
  {
   "cell_type": "code",
   "execution_count": 1,
   "metadata": {
    "collapsed": true
   },
   "outputs": [],
   "source": [
    "import pandas as pd\n",
    "import numpy as np\n",
    "import re\n",
    "\n",
    "#scikit-learn modules\n",
    "from sklearn import ensemble, linear_model, metrics\n",
    "from sklearn import model_selection\n",
    "from sklearn.feature_selection import SelectKBest\n",
    "from sklearn.decomposition import PCA\n",
    "from sklearn import manifold\n",
    "from sklearn import svm\n",
    "from sklearn.preprocessing import StandardScaler\n",
    "\n",
    "#plotting\n",
    "from matplotlib import pyplot as plt\n",
    "from matplotlib import style\n",
    "style.use('ggplot')\n",
    "\n",
    "%matplotlib inline"
   ]
  },
  {
   "cell_type": "markdown",
   "metadata": {},
   "source": [
    "## Data preparation"
   ]
  },
  {
   "cell_type": "code",
   "execution_count": 2,
   "metadata": {
    "collapsed": true
   },
   "outputs": [],
   "source": [
    "#load in the features and labels data matrices\n",
    "\n",
    "ko_matrix = pd.read_csv('datafiles/taxid_ko_matrix_all_full.csv').drop('Unnamed: 0',1)\n",
    "func_matrix = pd.read_csv('datafiles/groups_to_records_all_full.txt',sep='\\t', comment='#')\n",
    "\n",
    "ko_matrix.columns = [re.sub('ko:','',i) for i in ko_matrix.columns]\n",
    "\n",
    "#get lists of the KOs and functions for later use\n",
    "ko_list = [i for i in list(ko_matrix.columns) if i.startswith('K')]\n",
    "func_list = func_matrix.drop('record',1).columns"
   ]
  },
  {
   "cell_type": "markdown",
   "metadata": {},
   "source": [
    "Type df.head() to look at the first few rows of any DataFrame df"
   ]
  },
  {
   "cell_type": "code",
   "execution_count": 3,
   "metadata": {},
   "outputs": [
    {
     "data": {
      "text/html": [
       "<div>\n",
       "<style>\n",
       "    .dataframe thead tr:only-child th {\n",
       "        text-align: right;\n",
       "    }\n",
       "\n",
       "    .dataframe thead th {\n",
       "        text-align: left;\n",
       "    }\n",
       "\n",
       "    .dataframe tbody tr th {\n",
       "        vertical-align: top;\n",
       "    }\n",
       "</style>\n",
       "<table border=\"1\" class=\"dataframe\">\n",
       "  <thead>\n",
       "    <tr style=\"text-align: right;\">\n",
       "      <th></th>\n",
       "      <th>species_taxid</th>\n",
       "      <th>K00001</th>\n",
       "      <th>K00002</th>\n",
       "      <th>K00003</th>\n",
       "      <th>K00004</th>\n",
       "      <th>K00005</th>\n",
       "      <th>K00007</th>\n",
       "      <th>K00008</th>\n",
       "      <th>K00009</th>\n",
       "      <th>K00010</th>\n",
       "      <th>...</th>\n",
       "      <th>K17800</th>\n",
       "      <th>K17803</th>\n",
       "      <th>K17804</th>\n",
       "      <th>K17810</th>\n",
       "      <th>K17811</th>\n",
       "      <th>K17815</th>\n",
       "      <th>K17816</th>\n",
       "      <th>K17817</th>\n",
       "      <th>K17818</th>\n",
       "      <th>K17825</th>\n",
       "    </tr>\n",
       "  </thead>\n",
       "  <tbody>\n",
       "    <tr>\n",
       "      <th>0</th>\n",
       "      <td>562</td>\n",
       "      <td>0</td>\n",
       "      <td>0</td>\n",
       "      <td>0</td>\n",
       "      <td>0</td>\n",
       "      <td>1</td>\n",
       "      <td>0</td>\n",
       "      <td>1</td>\n",
       "      <td>1</td>\n",
       "      <td>0</td>\n",
       "      <td>...</td>\n",
       "      <td>0</td>\n",
       "      <td>0</td>\n",
       "      <td>0</td>\n",
       "      <td>0</td>\n",
       "      <td>0</td>\n",
       "      <td>0</td>\n",
       "      <td>0</td>\n",
       "      <td>0</td>\n",
       "      <td>0</td>\n",
       "      <td>0</td>\n",
       "    </tr>\n",
       "    <tr>\n",
       "      <th>1</th>\n",
       "      <td>2188</td>\n",
       "      <td>0</td>\n",
       "      <td>0</td>\n",
       "      <td>1</td>\n",
       "      <td>0</td>\n",
       "      <td>0</td>\n",
       "      <td>0</td>\n",
       "      <td>0</td>\n",
       "      <td>0</td>\n",
       "      <td>0</td>\n",
       "      <td>...</td>\n",
       "      <td>0</td>\n",
       "      <td>0</td>\n",
       "      <td>0</td>\n",
       "      <td>0</td>\n",
       "      <td>0</td>\n",
       "      <td>0</td>\n",
       "      <td>0</td>\n",
       "      <td>0</td>\n",
       "      <td>0</td>\n",
       "      <td>0</td>\n",
       "    </tr>\n",
       "    <tr>\n",
       "      <th>2</th>\n",
       "      <td>38289</td>\n",
       "      <td>0</td>\n",
       "      <td>0</td>\n",
       "      <td>1</td>\n",
       "      <td>0</td>\n",
       "      <td>0</td>\n",
       "      <td>0</td>\n",
       "      <td>0</td>\n",
       "      <td>0</td>\n",
       "      <td>0</td>\n",
       "      <td>...</td>\n",
       "      <td>0</td>\n",
       "      <td>0</td>\n",
       "      <td>0</td>\n",
       "      <td>0</td>\n",
       "      <td>0</td>\n",
       "      <td>0</td>\n",
       "      <td>0</td>\n",
       "      <td>0</td>\n",
       "      <td>0</td>\n",
       "      <td>0</td>\n",
       "    </tr>\n",
       "    <tr>\n",
       "      <th>3</th>\n",
       "      <td>134821</td>\n",
       "      <td>0</td>\n",
       "      <td>0</td>\n",
       "      <td>0</td>\n",
       "      <td>0</td>\n",
       "      <td>0</td>\n",
       "      <td>0</td>\n",
       "      <td>0</td>\n",
       "      <td>0</td>\n",
       "      <td>0</td>\n",
       "      <td>...</td>\n",
       "      <td>0</td>\n",
       "      <td>0</td>\n",
       "      <td>0</td>\n",
       "      <td>0</td>\n",
       "      <td>0</td>\n",
       "      <td>0</td>\n",
       "      <td>0</td>\n",
       "      <td>0</td>\n",
       "      <td>0</td>\n",
       "      <td>0</td>\n",
       "    </tr>\n",
       "    <tr>\n",
       "      <th>4</th>\n",
       "      <td>632</td>\n",
       "      <td>0</td>\n",
       "      <td>0</td>\n",
       "      <td>0</td>\n",
       "      <td>0</td>\n",
       "      <td>0</td>\n",
       "      <td>1</td>\n",
       "      <td>1</td>\n",
       "      <td>1</td>\n",
       "      <td>2</td>\n",
       "      <td>...</td>\n",
       "      <td>0</td>\n",
       "      <td>0</td>\n",
       "      <td>0</td>\n",
       "      <td>0</td>\n",
       "      <td>0</td>\n",
       "      <td>0</td>\n",
       "      <td>0</td>\n",
       "      <td>0</td>\n",
       "      <td>0</td>\n",
       "      <td>0</td>\n",
       "    </tr>\n",
       "  </tbody>\n",
       "</table>\n",
       "<p>5 rows × 9648 columns</p>\n",
       "</div>"
      ],
      "text/plain": [
       "   species_taxid  K00001  K00002  K00003  K00004  K00005  K00007  K00008  \\\n",
       "0            562       0       0       0       0       1       0       1   \n",
       "1           2188       0       0       1       0       0       0       0   \n",
       "2          38289       0       0       1       0       0       0       0   \n",
       "3         134821       0       0       0       0       0       0       0   \n",
       "4            632       0       0       0       0       0       1       1   \n",
       "\n",
       "   K00009  K00010   ...    K17800  K17803  K17804  K17810  K17811  K17815  \\\n",
       "0       1       0   ...         0       0       0       0       0       0   \n",
       "1       0       0   ...         0       0       0       0       0       0   \n",
       "2       0       0   ...         0       0       0       0       0       0   \n",
       "3       0       0   ...         0       0       0       0       0       0   \n",
       "4       1       2   ...         0       0       0       0       0       0   \n",
       "\n",
       "   K17816  K17817  K17818  K17825  \n",
       "0       0       0       0       0  \n",
       "1       0       0       0       0  \n",
       "2       0       0       0       0  \n",
       "3       0       0       0       0  \n",
       "4       0       0       0       0  \n",
       "\n",
       "[5 rows x 9648 columns]"
      ]
     },
     "execution_count": 3,
     "metadata": {},
     "output_type": "execute_result"
    }
   ],
   "source": [
    "ko_matrix.head()"
   ]
  },
  {
   "cell_type": "code",
   "execution_count": 4,
   "metadata": {},
   "outputs": [
    {
     "data": {
      "text/plain": [
       "9407"
      ]
     },
     "execution_count": 4,
     "metadata": {},
     "output_type": "execute_result"
    }
   ],
   "source": [
    "len(ko_matrix)"
   ]
  },
  {
   "cell_type": "code",
   "execution_count": 5,
   "metadata": {},
   "outputs": [
    {
     "data": {
      "text/html": [
       "<div>\n",
       "<style>\n",
       "    .dataframe thead tr:only-child th {\n",
       "        text-align: right;\n",
       "    }\n",
       "\n",
       "    .dataframe thead th {\n",
       "        text-align: left;\n",
       "    }\n",
       "\n",
       "    .dataframe tbody tr th {\n",
       "        vertical-align: top;\n",
       "    }\n",
       "</style>\n",
       "<table border=\"1\" class=\"dataframe\">\n",
       "  <thead>\n",
       "    <tr style=\"text-align: right;\">\n",
       "      <th></th>\n",
       "      <th>species_taxid</th>\n",
       "      <th>K00001</th>\n",
       "      <th>K00002</th>\n",
       "      <th>K00003</th>\n",
       "      <th>K00004</th>\n",
       "      <th>K00005</th>\n",
       "      <th>K00007</th>\n",
       "      <th>K00008</th>\n",
       "      <th>K00009</th>\n",
       "      <th>K00010</th>\n",
       "      <th>...</th>\n",
       "      <th>anoxygenic_photoautotrophy</th>\n",
       "      <th>oxygenic_photoautotrophy</th>\n",
       "      <th>photoautotrophy</th>\n",
       "      <th>aerobic_anoxygenic_phototrophy</th>\n",
       "      <th>photoheterotrophy</th>\n",
       "      <th>phototrophy</th>\n",
       "      <th>plastic_degradation</th>\n",
       "      <th>ureolysis</th>\n",
       "      <th>reductive_acetogenesis</th>\n",
       "      <th>chemoheterotrophy</th>\n",
       "    </tr>\n",
       "  </thead>\n",
       "  <tbody>\n",
       "    <tr>\n",
       "      <th>0</th>\n",
       "      <td>562</td>\n",
       "      <td>0</td>\n",
       "      <td>0</td>\n",
       "      <td>0</td>\n",
       "      <td>0</td>\n",
       "      <td>1</td>\n",
       "      <td>0</td>\n",
       "      <td>1</td>\n",
       "      <td>1</td>\n",
       "      <td>0</td>\n",
       "      <td>...</td>\n",
       "      <td>0</td>\n",
       "      <td>0</td>\n",
       "      <td>0</td>\n",
       "      <td>0</td>\n",
       "      <td>0</td>\n",
       "      <td>0</td>\n",
       "      <td>0</td>\n",
       "      <td>0</td>\n",
       "      <td>0</td>\n",
       "      <td>1</td>\n",
       "    </tr>\n",
       "    <tr>\n",
       "      <th>1</th>\n",
       "      <td>2188</td>\n",
       "      <td>0</td>\n",
       "      <td>0</td>\n",
       "      <td>1</td>\n",
       "      <td>0</td>\n",
       "      <td>0</td>\n",
       "      <td>0</td>\n",
       "      <td>0</td>\n",
       "      <td>0</td>\n",
       "      <td>0</td>\n",
       "      <td>...</td>\n",
       "      <td>0</td>\n",
       "      <td>0</td>\n",
       "      <td>0</td>\n",
       "      <td>0</td>\n",
       "      <td>0</td>\n",
       "      <td>0</td>\n",
       "      <td>0</td>\n",
       "      <td>0</td>\n",
       "      <td>0</td>\n",
       "      <td>1</td>\n",
       "    </tr>\n",
       "    <tr>\n",
       "      <th>2</th>\n",
       "      <td>38289</td>\n",
       "      <td>0</td>\n",
       "      <td>0</td>\n",
       "      <td>1</td>\n",
       "      <td>0</td>\n",
       "      <td>0</td>\n",
       "      <td>0</td>\n",
       "      <td>0</td>\n",
       "      <td>0</td>\n",
       "      <td>0</td>\n",
       "      <td>...</td>\n",
       "      <td>0</td>\n",
       "      <td>0</td>\n",
       "      <td>0</td>\n",
       "      <td>0</td>\n",
       "      <td>0</td>\n",
       "      <td>0</td>\n",
       "      <td>0</td>\n",
       "      <td>0</td>\n",
       "      <td>0</td>\n",
       "      <td>1</td>\n",
       "    </tr>\n",
       "    <tr>\n",
       "      <th>3</th>\n",
       "      <td>134821</td>\n",
       "      <td>0</td>\n",
       "      <td>0</td>\n",
       "      <td>0</td>\n",
       "      <td>0</td>\n",
       "      <td>0</td>\n",
       "      <td>0</td>\n",
       "      <td>0</td>\n",
       "      <td>0</td>\n",
       "      <td>0</td>\n",
       "      <td>...</td>\n",
       "      <td>0</td>\n",
       "      <td>0</td>\n",
       "      <td>0</td>\n",
       "      <td>0</td>\n",
       "      <td>0</td>\n",
       "      <td>0</td>\n",
       "      <td>0</td>\n",
       "      <td>1</td>\n",
       "      <td>0</td>\n",
       "      <td>0</td>\n",
       "    </tr>\n",
       "    <tr>\n",
       "      <th>4</th>\n",
       "      <td>632</td>\n",
       "      <td>0</td>\n",
       "      <td>0</td>\n",
       "      <td>0</td>\n",
       "      <td>0</td>\n",
       "      <td>0</td>\n",
       "      <td>1</td>\n",
       "      <td>1</td>\n",
       "      <td>1</td>\n",
       "      <td>2</td>\n",
       "      <td>...</td>\n",
       "      <td>0</td>\n",
       "      <td>0</td>\n",
       "      <td>0</td>\n",
       "      <td>0</td>\n",
       "      <td>0</td>\n",
       "      <td>0</td>\n",
       "      <td>0</td>\n",
       "      <td>0</td>\n",
       "      <td>0</td>\n",
       "      <td>0</td>\n",
       "    </tr>\n",
       "  </tbody>\n",
       "</table>\n",
       "<p>5 rows × 9739 columns</p>\n",
       "</div>"
      ],
      "text/plain": [
       "   species_taxid  K00001  K00002  K00003  K00004  K00005  K00007  K00008  \\\n",
       "0            562       0       0       0       0       1       0       1   \n",
       "1           2188       0       0       1       0       0       0       0   \n",
       "2          38289       0       0       1       0       0       0       0   \n",
       "3         134821       0       0       0       0       0       0       0   \n",
       "4            632       0       0       0       0       0       1       1   \n",
       "\n",
       "   K00009  K00010        ...          anoxygenic_photoautotrophy  \\\n",
       "0       1       0        ...                                   0   \n",
       "1       0       0        ...                                   0   \n",
       "2       0       0        ...                                   0   \n",
       "3       0       0        ...                                   0   \n",
       "4       1       2        ...                                   0   \n",
       "\n",
       "   oxygenic_photoautotrophy  photoautotrophy  aerobic_anoxygenic_phototrophy  \\\n",
       "0                         0                0                               0   \n",
       "1                         0                0                               0   \n",
       "2                         0                0                               0   \n",
       "3                         0                0                               0   \n",
       "4                         0                0                               0   \n",
       "\n",
       "   photoheterotrophy  phototrophy  plastic_degradation  ureolysis  \\\n",
       "0                  0            0                    0          0   \n",
       "1                  0            0                    0          0   \n",
       "2                  0            0                    0          0   \n",
       "3                  0            0                    0          1   \n",
       "4                  0            0                    0          0   \n",
       "\n",
       "   reductive_acetogenesis  chemoheterotrophy  \n",
       "0                       0                  1  \n",
       "1                       0                  1  \n",
       "2                       0                  1  \n",
       "3                       0                  0  \n",
       "4                       0                  0  \n",
       "\n",
       "[5 rows x 9739 columns]"
      ]
     },
     "execution_count": 5,
     "metadata": {},
     "output_type": "execute_result"
    }
   ],
   "source": [
    "#merge the two files together based on the column 'species_taxid'\n",
    "merged = pd.merge(ko_matrix, func_matrix, left_on='species_taxid', right_on='record')\n",
    "\n",
    "merged.head()"
   ]
  },
  {
   "cell_type": "code",
   "execution_count": 6,
   "metadata": {},
   "outputs": [
    {
     "data": {
      "text/plain": [
       "<matplotlib.axes._subplots.AxesSubplot at 0x11b272e10>"
      ]
     },
     "execution_count": 6,
     "metadata": {},
     "output_type": "execute_result"
    },
    {
     "data": {
      "image/png": "[encoded data removed]",
      "text/plain": [
       "<matplotlib.figure.Figure at 0x11b272828>"
      ]
     },
     "metadata": {},
     "output_type": "display_data"
    }
   ],
   "source": [
    "#histogram of total number of KOs in the different genomes\n",
    "ko_sums = merged[ko_list].sum(axis=1)\n",
    "ko_sums.hist(bins=40)"
   ]
  },
  {
   "cell_type": "code",
   "execution_count": 7,
   "metadata": {},
   "outputs": [
    {
     "data": {
      "text/html": [
       "<div>\n",
       "<style>\n",
       "    .dataframe thead tr:only-child th {\n",
       "        text-align: right;\n",
       "    }\n",
       "\n",
       "    .dataframe thead th {\n",
       "        text-align: left;\n",
       "    }\n",
       "\n",
       "    .dataframe tbody tr th {\n",
       "        vertical-align: top;\n",
       "    }\n",
       "</style>\n",
       "<table border=\"1\" class=\"dataframe\">\n",
       "  <thead>\n",
       "    <tr style=\"text-align: right;\">\n",
       "      <th></th>\n",
       "      <th>species_taxid</th>\n",
       "      <th>sum</th>\n",
       "    </tr>\n",
       "  </thead>\n",
       "  <tbody>\n",
       "    <tr>\n",
       "      <th>2973</th>\n",
       "      <td>1094953</td>\n",
       "      <td>22</td>\n",
       "    </tr>\n",
       "    <tr>\n",
       "      <th>2985</th>\n",
       "      <td>1094946</td>\n",
       "      <td>52</td>\n",
       "    </tr>\n",
       "    <tr>\n",
       "      <th>3111</th>\n",
       "      <td>1268334</td>\n",
       "      <td>76</td>\n",
       "    </tr>\n",
       "    <tr>\n",
       "      <th>2976</th>\n",
       "      <td>1094930</td>\n",
       "      <td>95</td>\n",
       "    </tr>\n",
       "    <tr>\n",
       "      <th>3106</th>\n",
       "      <td>1298872</td>\n",
       "      <td>106</td>\n",
       "    </tr>\n",
       "  </tbody>\n",
       "</table>\n",
       "</div>"
      ],
      "text/plain": [
       "      species_taxid  sum\n",
       "2973        1094953   22\n",
       "2985        1094946   52\n",
       "3111        1268334   76\n",
       "2976        1094930   95\n",
       "3106        1298872  106"
      ]
     },
     "execution_count": 7,
     "metadata": {},
     "output_type": "execute_result"
    }
   ],
   "source": [
    "merged['sum'] = merged[ko_list].sum(axis=1)\n",
    "merged.sort_values('sum')[['species_taxid','sum']].head()"
   ]
  },
  {
   "cell_type": "markdown",
   "metadata": {},
   "source": [
    "Now we prepare the data for training a classifier"
   ]
  },
  {
   "cell_type": "code",
   "execution_count": 8,
   "metadata": {},
   "outputs": [
    {
     "name": "stdout",
     "output_type": "stream",
     "text": [
      "Training value counts:  {0: 6937, 1: 118}\n",
      "Testing value counts:  {0: 2313, 1: 39}\n"
     ]
    }
   ],
   "source": [
    "#choose a function to train a classifier for\n",
    "function = 'sulfate_respiration'\n",
    "\n",
    "kos = merged[ko_list]\n",
    "to_predict = merged[function]\n",
    "\n",
    "#split the data into training and testing sets\n",
    "X_train, X_test, y_train, y_test = model_selection.train_test_split(\n",
    "                                                kos,to_predict, stratify=to_predict)\n",
    "\n",
    "train_indices = X_train.index\n",
    "test_indices = X_train.index\n",
    "\n",
    "print('Training value counts: ',dict(y_train.value_counts()))\n",
    "print('Testing value counts: ',dict(y_test.value_counts()))"
   ]
  },
  {
   "cell_type": "markdown",
   "metadata": {},
   "source": [
    "As a final preprocessing step, we need to normalize the features for logistic regression. We scale them so that all features have zero mean and unit variance. Note that we learn the means and variances from the training data only."
   ]
  },
  {
   "cell_type": "code",
   "execution_count": 9,
   "metadata": {},
   "outputs": [
    {
     "data": {
      "text/plain": [
       "(9407, 9647)"
      ]
     },
     "execution_count": 9,
     "metadata": {},
     "output_type": "execute_result"
    }
   ],
   "source": [
    "kos.shape"
   ]
  },
  {
   "cell_type": "code",
   "execution_count": 10,
   "metadata": {
    "collapsed": true
   },
   "outputs": [],
   "source": [
    "sc = StandardScaler()\n",
    "X_train = sc.fit_transform(X_train)\n",
    "X_test = sc.transform(X_test)"
   ]
  },
  {
   "cell_type": "markdown",
   "metadata": {},
   "source": [
    "## Training"
   ]
  },
  {
   "cell_type": "code",
   "execution_count": 11,
   "metadata": {
    "scrolled": true
   },
   "outputs": [
    {
     "data": {
      "text/plain": [
       "LogisticRegression(C=0.05, class_weight=None, dual=False, fit_intercept=True,\n",
       "          intercept_scaling=1, max_iter=100, multi_class='ovr', n_jobs=1,\n",
       "          penalty='l1', random_state=None, solver='liblinear', tol=0.0001,\n",
       "          verbose=0, warm_start=False)"
      ]
     },
     "execution_count": 11,
     "metadata": {},
     "output_type": "execute_result"
    }
   ],
   "source": [
    "#choose a classifier and fit it to the training data\n",
    "#clf = ensemble.RandomForestClassifier()\n",
    "#clf = svm.SVC(kernel='linear',probability=True, C=.05, class_weight=None)\n",
    "clf = linear_model.LogisticRegression(penalty='l1', solver='liblinear',C=0.05,\n",
    "                                     class_weight=None)\n",
    "clf.fit(X_train,y_train)"
   ]
  },
  {
   "cell_type": "code",
   "execution_count": 12,
   "metadata": {},
   "outputs": [
    {
     "name": "stdout",
     "output_type": "stream",
     "text": [
      "Train acc:  0.999716513111\n",
      "Test acc:  0.999149659864\n"
     ]
    }
   ],
   "source": [
    "#make predictions on the training and testing data\n",
    "\n",
    "train_predictions = clf.predict(X_train)\n",
    "test_predictions = clf.predict(X_test)\n",
    "\n",
    "#evaluate accuracy on the training and test data\n",
    "print('Train acc: ', metrics.accuracy_score(y_train,train_predictions))\n",
    "print('Test acc: ', metrics.accuracy_score(y_test,test_predictions))"
   ]
  },
  {
   "cell_type": "markdown",
   "metadata": {},
   "source": [
    "Looks pretty good! But the accuracy can be misleading for unbalanced classes. Let's compute confusion matrices for a more detailed look."
   ]
  },
  {
   "cell_type": "code",
   "execution_count": 13,
   "metadata": {},
   "outputs": [
    {
     "name": "stdout",
     "output_type": "stream",
     "text": [
      "Train: \n",
      " [[6937    0]\n",
      " [   2  116]]\n",
      "Test: \n",
      " [[2313    0]\n",
      " [   2   37]]\n"
     ]
    }
   ],
   "source": [
    "print('Train: \\n', metrics.confusion_matrix(y_train,train_predictions))\n",
    "print('Test: \\n', metrics.confusion_matrix(y_test,test_predictions))\n"
   ]
  },
  {
   "cell_type": "markdown",
   "metadata": {},
   "source": [
    "The F1 score is another way to evaluate accuracy for unbalanced problems. It is the harmonic mean of precision (proportion of positive predictions which are correct) and recall (proportion of true positives found). "
   ]
  },
  {
   "cell_type": "code",
   "execution_count": 14,
   "metadata": {},
   "outputs": [
    {
     "name": "stdout",
     "output_type": "stream",
     "text": [
      "Train F1:  0.991452991453\n",
      "Test F1:  0.973684210526\n",
      "\n",
      "Train kappa:  0.991308868404\n",
      "Test kappa:  0.973252362594\n"
     ]
    }
   ],
   "source": [
    "print('Train F1: ', metrics.f1_score(y_train,train_predictions))\n",
    "print('Test F1: ', metrics.f1_score(y_test,test_predictions))\n",
    "print()\n",
    "print('Train kappa: ', metrics.cohen_kappa_score(y_train,train_predictions))\n",
    "print('Test kappa: ', metrics.cohen_kappa_score(y_test,test_predictions))"
   ]
  },
  {
   "cell_type": "markdown",
   "metadata": {},
   "source": [
    "## The ROC curve"
   ]
  },
  {
   "cell_type": "code",
   "execution_count": 15,
   "metadata": {
    "collapsed": true
   },
   "outputs": [],
   "source": [
    "#make probabilistic predictions\n",
    "\n",
    "train_probs = [i[1] for i in clf.predict_proba(X_train)]\n",
    "test_probs = [i[1] for i in clf.predict_proba(X_test)]"
   ]
  },
  {
   "cell_type": "code",
   "execution_count": 16,
   "metadata": {},
   "outputs": [
    {
     "data": {
      "text/plain": [
       "<matplotlib.legend.Legend at 0x116195c88>"
      ]
     },
     "execution_count": 16,
     "metadata": {},
     "output_type": "execute_result"
    },
    {
     "data": {
      "image/png": "[encoded data removed]",
      "text/plain": [
       "<matplotlib.figure.Figure at 0x110aed908>"
      ]
     },
     "metadata": {},
     "output_type": "display_data"
    }
   ],
   "source": [
    "#compute and plot the ROC curve and area-under-curve score for the test set\n",
    "\n",
    "roc_auc = metrics.roc_auc_score(y_test,test_probs)\n",
    "tpr,fpr,_ = metrics.roc_curve(y_test,test_probs)\n",
    "\n",
    "plt.figure(figsize=(10,6))\n",
    "plt.plot(tpr, fpr, color='darkorange',\n",
    "         lw=2, label='ROC curve (area = %0.2f)' % roc_auc, marker='o')\n",
    "\n",
    "plt.plot([0, 1], [0, 1], color='navy', lw=2, linestyle='--')\n",
    "plt.legend(loc='lower right')\n"
   ]
  },
  {
   "cell_type": "code",
   "execution_count": 17,
   "metadata": {},
   "outputs": [
    {
     "name": "stdout",
     "output_type": "stream",
     "text": [
      "Test acc:  0.999149659864\n",
      "Test F1:  0.973684210526\n",
      "\n",
      "Test confusion matrix: \n",
      " [[2313    0]\n",
      " [   2   37]]\n"
     ]
    }
   ],
   "source": [
    "#use the ROC curve to pick an optimal cutoff value for the prediction to be positive\n",
    "\n",
    "cutoff_value=0.5\n",
    "\n",
    "test_predictions_better = np.array([1 if i>cutoff_value else 0 for i in test_probs])\n",
    "\n",
    "print('Test acc: ', metrics.accuracy_score(y_test,test_predictions_better))\n",
    "print('Test F1: ', metrics.f1_score(y_test,test_predictions_better))\n",
    "print()\n",
    "print('Test confusion matrix: \\n', metrics.confusion_matrix(y_test,test_predictions_better))"
   ]
  },
  {
   "cell_type": "markdown",
   "metadata": {},
   "source": [
    "## Viewing the most predictive genes"
   ]
  },
  {
   "cell_type": "markdown",
   "metadata": {},
   "source": [
    "We can look at the weights of the model we trained, to see which genes are important to making the prediction."
   ]
  },
  {
   "cell_type": "code",
   "execution_count": 19,
   "metadata": {},
   "outputs": [],
   "source": [
    "#load datafile containing descriptions of KEGG orthologs\n",
    "ko_desc = pd.read_csv('datafiles/ko_definition.txt',sep='\\t')"
   ]
  },
  {
   "cell_type": "code",
   "execution_count": 20,
   "metadata": {},
   "outputs": [
    {
     "data": {
      "text/html": [
       "<div>\n",
       "<style>\n",
       "    .dataframe thead tr:only-child th {\n",
       "        text-align: right;\n",
       "    }\n",
       "\n",
       "    .dataframe thead th {\n",
       "        text-align: left;\n",
       "    }\n",
       "\n",
       "    .dataframe tbody tr th {\n",
       "        vertical-align: top;\n",
       "    }\n",
       "</style>\n",
       "<table border=\"1\" class=\"dataframe\">\n",
       "  <thead>\n",
       "    <tr style=\"text-align: right;\">\n",
       "      <th></th>\n",
       "      <th>ko</th>\n",
       "      <th>weight</th>\n",
       "      <th>DEFINITION</th>\n",
       "      <th>PATHWAY</th>\n",
       "    </tr>\n",
       "  </thead>\n",
       "  <tbody>\n",
       "    <tr>\n",
       "      <th>0</th>\n",
       "      <td>K16885</td>\n",
       "      <td>0.711401</td>\n",
       "      <td>quinone-modifying oxidoreductase, subunit QmoA</td>\n",
       "      <td>NaN</td>\n",
       "    </tr>\n",
       "    <tr>\n",
       "      <th>1</th>\n",
       "      <td>K16887</td>\n",
       "      <td>0.239352</td>\n",
       "      <td>quinone-modifying oxidoreductase, subunit QmoC</td>\n",
       "      <td>NaN</td>\n",
       "    </tr>\n",
       "    <tr>\n",
       "      <th>2</th>\n",
       "      <td>K11358</td>\n",
       "      <td>0.135824</td>\n",
       "      <td>aspartate aminotransferase [EC:2.6.1.1]</td>\n",
       "      <td>ko00220 Arginine biosynthesis;ko00250 Alanine,...</td>\n",
       "    </tr>\n",
       "    <tr>\n",
       "      <th>3</th>\n",
       "      <td>K14127</td>\n",
       "      <td>0.103943</td>\n",
       "      <td>F420-non-reducing hydrogenase iron-sulfur subu...</td>\n",
       "      <td>NaN</td>\n",
       "    </tr>\n",
       "    <tr>\n",
       "      <th>4</th>\n",
       "      <td>K06951</td>\n",
       "      <td>0.099127</td>\n",
       "      <td>uncharacterized protein</td>\n",
       "      <td>NaN</td>\n",
       "    </tr>\n",
       "    <tr>\n",
       "      <th>5</th>\n",
       "      <td>K10302</td>\n",
       "      <td>0.082670</td>\n",
       "      <td>F-box protein 22</td>\n",
       "      <td>NaN</td>\n",
       "    </tr>\n",
       "    <tr>\n",
       "      <th>6</th>\n",
       "      <td>K11261</td>\n",
       "      <td>0.060976</td>\n",
       "      <td>formylmethanofuran dehydrogenase subunit E [EC...</td>\n",
       "      <td>ko00680 Methane metabolism;ko01200 Carbon meta...</td>\n",
       "    </tr>\n",
       "    <tr>\n",
       "      <th>7</th>\n",
       "      <td>K05299</td>\n",
       "      <td>0.058100</td>\n",
       "      <td>formate dehydrogenase alpha subunit [EC:1.2.1.43]</td>\n",
       "      <td>ko00680 Methane metabolism;ko00720 Carbon fixa...</td>\n",
       "    </tr>\n",
       "    <tr>\n",
       "      <th>8</th>\n",
       "      <td>K09740</td>\n",
       "      <td>0.057935</td>\n",
       "      <td>uncharacterized protein</td>\n",
       "      <td>NaN</td>\n",
       "    </tr>\n",
       "    <tr>\n",
       "      <th>9</th>\n",
       "      <td>K07550</td>\n",
       "      <td>0.054558</td>\n",
       "      <td>benzoylsuccinyl-CoA thiolase BbsB subunit [EC:...</td>\n",
       "      <td>ko00623 Toluene degradation;ko01220 Degradatio...</td>\n",
       "    </tr>\n",
       "    <tr>\n",
       "      <th>10</th>\n",
       "      <td>K12598</td>\n",
       "      <td>0.046186</td>\n",
       "      <td>ATP-dependent RNA helicase DOB1 [EC:3.6.4.13]</td>\n",
       "      <td>ko03018 RNA degradation</td>\n",
       "    </tr>\n",
       "    <tr>\n",
       "      <th>11</th>\n",
       "      <td>K07710</td>\n",
       "      <td>0.039439</td>\n",
       "      <td>two-component system, NtrC family, sensor hist...</td>\n",
       "      <td>ko02020 Two-component system</td>\n",
       "    </tr>\n",
       "    <tr>\n",
       "      <th>12</th>\n",
       "      <td>K07709</td>\n",
       "      <td>0.022288</td>\n",
       "      <td>two-component system, NtrC family, sensor hist...</td>\n",
       "      <td>ko02020 Two-component system</td>\n",
       "    </tr>\n",
       "    <tr>\n",
       "      <th>13</th>\n",
       "      <td>K07219</td>\n",
       "      <td>0.012712</td>\n",
       "      <td>putative molybdopterin biosynthesis protein</td>\n",
       "      <td>NaN</td>\n",
       "    </tr>\n",
       "    <tr>\n",
       "      <th>14</th>\n",
       "      <td>K16886</td>\n",
       "      <td>0.007500</td>\n",
       "      <td>quinone-modifying oxidoreductase, subunit QmoB</td>\n",
       "      <td>NaN</td>\n",
       "    </tr>\n",
       "    <tr>\n",
       "      <th>15</th>\n",
       "      <td>K02590</td>\n",
       "      <td>0.001155</td>\n",
       "      <td>nitrogen regulatory protein PII 2</td>\n",
       "      <td>NaN</td>\n",
       "    </tr>\n",
       "    <tr>\n",
       "      <th>16</th>\n",
       "      <td>K12309</td>\n",
       "      <td>0.001110</td>\n",
       "      <td>beta-galactosidase [EC:3.2.1.23]</td>\n",
       "      <td>ko00052 Galactose metabolism;ko00511 Other gly...</td>\n",
       "    </tr>\n",
       "    <tr>\n",
       "      <th>17</th>\n",
       "      <td>K09777</td>\n",
       "      <td>0.000877</td>\n",
       "      <td>uncharacterized protein</td>\n",
       "      <td>NaN</td>\n",
       "    </tr>\n",
       "    <tr>\n",
       "      <th>18</th>\n",
       "      <td>K10440</td>\n",
       "      <td>0.000000</td>\n",
       "      <td>ribose transport system permease protein</td>\n",
       "      <td>ko02010 ABC transporters</td>\n",
       "    </tr>\n",
       "    <tr>\n",
       "      <th>19</th>\n",
       "      <td>K10439</td>\n",
       "      <td>0.000000</td>\n",
       "      <td>ribose transport system substrate-binding protein</td>\n",
       "      <td>ko02010 ABC transporters;ko02030 Bacterial che...</td>\n",
       "    </tr>\n",
       "  </tbody>\n",
       "</table>\n",
       "</div>"
      ],
      "text/plain": [
       "        ko    weight                                         DEFINITION  \\\n",
       "0   K16885  0.711401     quinone-modifying oxidoreductase, subunit QmoA   \n",
       "1   K16887  0.239352     quinone-modifying oxidoreductase, subunit QmoC   \n",
       "2   K11358  0.135824            aspartate aminotransferase [EC:2.6.1.1]   \n",
       "3   K14127  0.103943  F420-non-reducing hydrogenase iron-sulfur subu...   \n",
       "4   K06951  0.099127                            uncharacterized protein   \n",
       "5   K10302  0.082670                                   F-box protein 22   \n",
       "6   K11261  0.060976  formylmethanofuran dehydrogenase subunit E [EC...   \n",
       "7   K05299  0.058100  formate dehydrogenase alpha subunit [EC:1.2.1.43]   \n",
       "8   K09740  0.057935                            uncharacterized protein   \n",
       "9   K07550  0.054558  benzoylsuccinyl-CoA thiolase BbsB subunit [EC:...   \n",
       "10  K12598  0.046186      ATP-dependent RNA helicase DOB1 [EC:3.6.4.13]   \n",
       "11  K07710  0.039439  two-component system, NtrC family, sensor hist...   \n",
       "12  K07709  0.022288  two-component system, NtrC family, sensor hist...   \n",
       "13  K07219  0.012712        putative molybdopterin biosynthesis protein   \n",
       "14  K16886  0.007500     quinone-modifying oxidoreductase, subunit QmoB   \n",
       "15  K02590  0.001155                  nitrogen regulatory protein PII 2   \n",
       "16  K12309  0.001110                   beta-galactosidase [EC:3.2.1.23]   \n",
       "17  K09777  0.000877                            uncharacterized protein   \n",
       "18  K10440  0.000000           ribose transport system permease protein   \n",
       "19  K10439  0.000000  ribose transport system substrate-binding protein   \n",
       "\n",
       "                                              PATHWAY  \n",
       "0                                                 NaN  \n",
       "1                                                 NaN  \n",
       "2   ko00220 Arginine biosynthesis;ko00250 Alanine,...  \n",
       "3                                                 NaN  \n",
       "4                                                 NaN  \n",
       "5                                                 NaN  \n",
       "6   ko00680 Methane metabolism;ko01200 Carbon meta...  \n",
       "7   ko00680 Methane metabolism;ko00720 Carbon fixa...  \n",
       "8                                                 NaN  \n",
       "9   ko00623 Toluene degradation;ko01220 Degradatio...  \n",
       "10                            ko03018 RNA degradation  \n",
       "11                       ko02020 Two-component system  \n",
       "12                       ko02020 Two-component system  \n",
       "13                                                NaN  \n",
       "14                                                NaN  \n",
       "15                                                NaN  \n",
       "16  ko00052 Galactose metabolism;ko00511 Other gly...  \n",
       "17                                                NaN  \n",
       "18                           ko02010 ABC transporters  \n",
       "19  ko02010 ABC transporters;ko02030 Bacterial che...  "
      ]
     },
     "execution_count": 20,
     "metadata": {},
     "output_type": "execute_result"
    }
   ],
   "source": [
    "ko_df = pd.DataFrame([(i,j) for i,j in zip(ko_list,clf.coef_[0])])\n",
    "ko_df.columns = ['ko','weight']\n",
    "ko_df=ko_df.sort_values('weight',ascending=False)\n",
    "ko_df = ko_df.merge(ko_desc,left_on='ko',right_on='ko')[['ko','weight','DEFINITION']]\n",
    "ko_df.head(n=20)"
   ]
  },
  {
   "cell_type": "code",
   "execution_count": null,
   "metadata": {
    "collapsed": true
   },
   "outputs": [],
   "source": []
  }
 ],
 "metadata": {
  "kernelspec": {
   "display_name": "Python 3 (ipykernel)",
   "language": "python",
   "name": "python3"
  },
  "language_info": {
   "codemirror_mode": {
    "name": "ipython",
    "version": 3
   },
   "file_extension": ".py",
   "mimetype": "text/x-python",
   "name": "python",
   "nbconvert_exporter": "python",
   "pygments_lexer": "ipython3",
   "version": "3.8.0"
  }
 },
 "nbformat": 4,
 "nbformat_minor": 2
}
